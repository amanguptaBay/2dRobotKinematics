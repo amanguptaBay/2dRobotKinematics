{
 "cells": [
  {
   "cell_type": "code",
   "execution_count": 3,
   "metadata": {},
   "outputs": [
    {
     "name": "stdout",
     "output_type": "stream",
     "text": [
      "Showing Robot Using Geometry\n"
     ]
    },
    {
     "data": {
      "image/png": "[encoded data removed]",
      "text/plain": [
       "<Figure size 640x480 with 1 Axes>"
      ]
     },
     "metadata": {},
     "output_type": "display_data"
    },
    {
     "name": "stdout",
     "output_type": "stream",
     "text": [
      "(-0.9999999999999999, 1.0000000000000002)\n"
     ]
    }
   ],
   "source": [
    "import numpy as np\n",
    "import matplotlib.pyplot as plt\n",
    "\n",
    "# Define the joint angles and link lengths\n",
    "theta1 = np.pi/2\n",
    "theta2 = np.pi/2\n",
    "L1 = 1\n",
    "L2 = 1\n",
    "def plotRobot(L1, L2, theta1, theta2):\n",
    "    x1 = L1*np.cos(theta1)\n",
    "    y1 = L1*np.sin(theta1)\n",
    "    x2 = x1 + L2*np.cos(theta1+theta2)\n",
    "    y2 = y1 + L2*np.sin(theta1+theta2)\n",
    "\n",
    "    fig, ax = plt.subplots()\n",
    "    ax.plot([0, x1], [0, y1], 'b-', lw=2)  # First link\n",
    "    ax.plot([x1, x2], [y1, y2], 'r-', lw=2)  # Second link\n",
    "    ax.set_aspect('equal')\n",
    "    print(\"Showing Robot Using Geometry\")\n",
    "    plt.show()\n",
    "    return x2,y2\n",
    "GROUND_TRUTH = plotRobot(L1, L2, theta1, theta2)\n",
    "print(GROUND_TRUTH)"
   ]
  },
  {
   "cell_type": "code",
   "execution_count": 4,
   "metadata": {},
   "outputs": [
    {
     "name": "stderr",
     "output_type": "stream",
     "text": [
      "2023-04-29 18:03:19.513656: I tensorflow/core/platform/cpu_feature_guard.cc:193] This TensorFlow binary is optimized with oneAPI Deep Neural Network Library (oneDNN) to use the following CPU instructions in performance-critical operations:  AVX2 FMA\n",
      "To enable them in other operations, rebuild TensorFlow with the appropriate compiler flags.\n"
     ]
    }
   ],
   "source": [
    "import tensorflow as tf"
   ]
  },
  {
   "cell_type": "code",
   "execution_count": 5,
   "metadata": {},
   "outputs": [],
   "source": [
    "def TP(x,y):\n",
    "    \"\"\"\n",
    "        Prismatic Transformation by x,y\n",
    "    \"\"\"\n",
    "    return np.array([[1,0,x],[0,1,y],[0,0,1]])\n",
    "def TPx(x):\n",
    "    return TP(x,0)\n",
    "def TR(A):\n",
    "    \"\"\"\n",
    "        Resolute Transformation by thetA\n",
    "    \"\"\"\n",
    "    return np.array([[np.cos(A), -np.sin(A), 0],[np.sin(A), np.cos(A), 0],[0,0,1]])"
   ]
  },
  {
   "attachments": {},
   "cell_type": "markdown",
   "metadata": {},
   "source": [
    "Thinking:\n",
    "![2d_forward_kinematics_thought_process](assets/2d_forward_kinematics_thought_process.png)\n",
    "*Step by Step how I got this result*"
   ]
  },
  {
   "cell_type": "code",
   "execution_count": 8,
   "metadata": {},
   "outputs": [
    {
     "data": {
      "text/plain": [
       "array([-1.,  1.,  1.])"
      ]
     },
     "execution_count": 8,
     "metadata": {},
     "output_type": "execute_result"
    }
   ],
   "source": [
    "#Result from the equation (note how we start at the origin)\n",
    "myResult = TR(theta1)@TPx(L1)@TR(theta2)@TPx(L2)@np.array([0,0,1])\n",
    "myResult"
   ]
  },
  {
   "attachments": {},
   "cell_type": "markdown",
   "metadata": {},
   "source": [
    "Showing the Ground Truth with extra rotation dimension"
   ]
  },
  {
   "cell_type": "code",
   "execution_count": 10,
   "metadata": {},
   "outputs": [
    {
     "data": {
      "text/plain": [
       "[-0.9999999999999999, 1.0000000000000002, 1]"
      ]
     },
     "execution_count": 10,
     "metadata": {},
     "output_type": "execute_result"
    }
   ],
   "source": [
    "x = list(GROUND_TRUTH) #We add a 1 since the original ground truth doesnt have a rotation dimension\n",
    "x.append(1)\n",
    "x"
   ]
  },
  {
   "attachments": {},
   "cell_type": "markdown",
   "metadata": {},
   "source": [
    "They are equivalent"
   ]
  },
  {
   "cell_type": "code",
   "execution_count": 12,
   "metadata": {},
   "outputs": [
    {
     "data": {
      "text/plain": [
       "True"
      ]
     },
     "execution_count": 12,
     "metadata": {},
     "output_type": "execute_result"
    }
   ],
   "source": [
    "np.all(np.isclose(x,myResult))"
   ]
  },
  {
   "attachments": {},
   "cell_type": "markdown",
   "metadata": {},
   "source": [
    "# PyTorch"
   ]
  },
  {
   "cell_type": "code",
   "execution_count": 34,
   "metadata": {},
   "outputs": [
    {
     "data": {
      "text/plain": [
       "tensor([[-1.0000],\n",
       "        [ 1.0000],\n",
       "        [ 1.0000]], grad_fn=<MmBackward0>)"
      ]
     },
     "execution_count": 34,
     "metadata": {},
     "output_type": "execute_result"
    }
   ],
   "source": [
    "import torch\n",
    "import numpy as np\n",
    "\n",
    "# Define the joint angles and link lengths\n",
    "theta1 = np.pi/2\n",
    "theta2 = np.pi/2\n",
    "L1 = 1.0\n",
    "L2 = 1.0\n",
    "\n",
    "def TP(x,y):\n",
    "    \"\"\"\n",
    "        Prismatic Transformation by x,y\n",
    "    \"\"\"\n",
    "    x = torch.tensor([x])\n",
    "    y = torch.tensor([y])\n",
    "    return torch.tensor([[1,0,x],[0,1,y],[0,0,1]])\n",
    "\n",
    "def TPx(x):\n",
    "    return TP(x,0)\n",
    "\n",
    "def TR(A):\n",
    "    \"\"\"\n",
    "        Resolute Transformation by theta\n",
    "    \"\"\"\n",
    "    A = torch.tensor([A])\n",
    "    return torch.tensor([[torch.cos(A), -torch.sin(A), 0],[torch.sin(A), torch.cos(A), 0],[0,0,1]])\n",
    "\n",
    "#Result from the equation (note how we start at the origin)\n",
    "start = torch.tensor([0.0,0.0,1.0], requires_grad=True).unsqueeze(1)\n",
    "myResult = TR(theta1)\n",
    "myResult = myResult@TPx(L1)\n",
    "myResult = myResult@TR(theta2)@TPx(L2)@start\n",
    "myResult"
   ]
  },
  {
   "cell_type": "code",
   "execution_count": 37,
   "metadata": {},
   "outputs": [
    {
     "data": {
      "text/plain": [
       "array([-1.        ,  0.99999994,  1.        ], dtype=float32)"
      ]
     },
     "execution_count": 37,
     "metadata": {},
     "output_type": "execute_result"
    }
   ],
   "source": [
    "myResult = myResult.squeeze().detach().numpy()\n",
    "myResult"
   ]
  },
  {
   "cell_type": "code",
   "execution_count": 38,
   "metadata": {},
   "outputs": [
    {
     "data": {
      "text/plain": [
       "array([ True,  True,  True])"
      ]
     },
     "execution_count": 38,
     "metadata": {},
     "output_type": "execute_result"
    }
   ],
   "source": [
    "np.isclose(myResult, x)"
   ]
  }
 ],
 "metadata": {
  "kernelspec": {
   "display_name": "DEEPLABCUT",
   "language": "python",
   "name": "python3"
  },
  "language_info": {
   "codemirror_mode": {
    "name": "ipython",
    "version": 3
   },
   "file_extension": ".py",
   "mimetype": "text/x-python",
   "name": "python",
   "nbconvert_exporter": "python",
   "pygments_lexer": "ipython3",
   "version": "3.8.16"
  },
  "orig_nbformat": 4
 },
 "nbformat": 4,
 "nbformat_minor": 2
}
