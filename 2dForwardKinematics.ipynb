{
 "cells": [
  {
   "cell_type": "code",
   "execution_count": 3,
   "metadata": {},
   "outputs": [
    {
     "name": "stdout",
     "output_type": "stream",
     "text": [
      "Showing Robot Using Geometry\n"
     ]
    },
    {
     "data": {
      "image/png": "[encoded data removed]",
      "text/plain": [
       "<Figure size 432x288 with 1 Axes>"
      ]
     },
     "metadata": {
      "needs_background": "light"
     },
     "output_type": "display_data"
    },
    {
     "name": "stdout",
     "output_type": "stream",
     "text": [
      "(-0.9999999999999999, 1.0000000000000002)\n"
     ]
    }
   ],
   "source": [
    "import numpy as np\n",
    "import matplotlib.pyplot as plt\n",
    "\n",
    "# Define the joint angles and link lengths\n",
    "theta1 = np.pi/2\n",
    "theta2 = np.pi/2\n",
    "L1 = 1\n",
    "L2 = 1\n",
    "def plotRobot(L1, L2, theta1, theta2):\n",
    "    x1 = L1*np.cos(theta1)\n",
    "    y1 = L1*np.sin(theta1)\n",
    "    x2 = x1 + L2*np.cos(theta1+theta2)\n",
    "    y2 = y1 + L2*np.sin(theta1+theta2)\n",
    "\n",
    "    fig, ax = plt.subplots()\n",
    "    ax.plot([0, x1], [0, y1], 'b-', lw=2)  # First link\n",
    "    ax.plot([x1, x2], [y1, y2], 'r-', lw=2)  # Second link\n",
    "    ax.set_aspect('equal')\n",
    "    print(\"Showing Robot Using Geometry\")\n",
    "    plt.show()\n",
    "    return x2,y2\n",
    "GROUND_TRUTH = plotRobot(L1, L2, theta1, theta2)\n",
    "print(GROUND_TRUTH)"
   ]
  },
  {
   "cell_type": "code",
   "execution_count": 4,
   "metadata": {},
   "outputs": [],
   "source": [
    "def TP(x,y):\n",
    "    \"\"\"\n",
    "        Prismatic Transformation by x,y\n",
    "    \"\"\"\n",
    "    return np.array([[1,0,x],[0,1,y],[0,0,1]])\n",
    "def TPx(x):\n",
    "    return TP(x,0)\n",
    "def TR(A):\n",
    "    \"\"\"\n",
    "        Resolute Transformation by thetA\n",
    "    \"\"\"\n",
    "    return np.array([[np.cos(A), -np.sin(A), 0],[np.sin(A), np.cos(A), 0],[0,0,1]])"
   ]
  },
  {
   "attachments": {},
   "cell_type": "markdown",
   "metadata": {},
   "source": [
    "Thinking:\n",
    "![2d_forward_kinematics_thought_process](assets/2d_forward_kinematics_thought_process.png)\n",
    "*Step by Step how I got this result*"
   ]
  },
  {
   "cell_type": "code",
   "execution_count": 5,
   "metadata": {},
   "outputs": [
    {
     "data": {
      "text/plain": [
       "array([-1.,  1.,  1.])"
      ]
     },
     "execution_count": 5,
     "metadata": {},
     "output_type": "execute_result"
    }
   ],
   "source": [
    "#Result from the equation (note how we start at the origin)\n",
    "myResult = TR(theta1)@TPx(L1)@TR(theta2)@TPx(L2)@np.array([0,0,1])\n",
    "myResult"
   ]
  },
  {
   "attachments": {},
   "cell_type": "markdown",
   "metadata": {},
   "source": [
    "Showing the Ground Truth with extra rotation dimension"
   ]
  },
  {
   "cell_type": "code",
   "execution_count": 6,
   "metadata": {},
   "outputs": [
    {
     "data": {
      "text/plain": [
       "[-0.9999999999999999, 1.0000000000000002, 1]"
      ]
     },
     "execution_count": 6,
     "metadata": {},
     "output_type": "execute_result"
    }
   ],
   "source": [
    "x = list(GROUND_TRUTH) #We add a 1 since the original ground truth doesnt have a rotation dimension\n",
    "x.append(1)\n",
    "x"
   ]
  },
  {
   "attachments": {},
   "cell_type": "markdown",
   "metadata": {},
   "source": [
    "They are equivalent"
   ]
  },
  {
   "cell_type": "code",
   "execution_count": 7,
   "metadata": {},
   "outputs": [
    {
     "data": {
      "text/plain": [
       "True"
      ]
     },
     "execution_count": 7,
     "metadata": {},
     "output_type": "execute_result"
    }
   ],
   "source": [
    "np.all(np.isclose(x,myResult))"
   ]
  },
  {
   "attachments": {},
   "cell_type": "markdown",
   "metadata": {},
   "source": [
    "# PyTorch"
   ]
  },
  {
   "cell_type": "code",
   "execution_count": 38,
   "metadata": {},
   "outputs": [],
   "source": [
    "import torch\n",
    "import numpy as np\n",
    "\n",
    "def TP(x,y):\n",
    "    \"\"\"\n",
    "        Prismatic Transformation by x,y\n",
    "    \"\"\"\n",
    "    processed = list()\n",
    "    for i in [0.0,0.0,x,0.0,1.0,y,0.0,0.0,1.0]:\n",
    "        if isinstance(i, float):\n",
    "            processed.append(torch.tensor(i).view(1))\n",
    "        else:\n",
    "            processed.append(i.view(1))\n",
    "    return torch.cat(tuple(processed)).view(3,3)\n",
    "\n",
    "def TPx(x):\n",
    "    return TP(x,torch.tensor(0.0))\n",
    "\n",
    "def TR(A):\n",
    "    \"\"\"\n",
    "        Resolute Transformation by theta\n",
    "    \"\"\"\n",
    "    processed = list()\n",
    "    for i in [torch.cos(A), -torch.sin(A), 0,torch.sin(A), torch.cos(A), 0,0,0,1]:\n",
    "        if isinstance(i, (int, float)):\n",
    "            processed.append(torch.tensor(i).view(1))\n",
    "        else:\n",
    "            processed.append(i.view(1))\n",
    "\n",
    "    return torch.cat(tuple(processed)).view(3,3)\n",
    "\n",
    "#Result from the equation (note how we start at the origin)\n",
    "#start = torch.tensor([0.0,0.0,1.0], requires_grad=True).unsqueeze(1)\n",
    "#myResult = TR(theta1)\n",
    "#myResult = myResult@TPx(L1)\n",
    "#myResult = myResult@TR(theta2)@TPx(L2)@start\n",
    "#myResult"
   ]
  },
  {
   "cell_type": "code",
   "execution_count": 39,
   "metadata": {},
   "outputs": [
    {
     "ename": "AttributeError",
     "evalue": "'int' object has no attribute 'view'",
     "output_type": "error",
     "traceback": [
      "\u001b[0;31m---------------------------------------------------------------------------\u001b[0m",
      "\u001b[0;31mAttributeError\u001b[0m                            Traceback (most recent call last)",
      "\u001b[0;32m/tmp/ipykernel_123066/3270990889.py\u001b[0m in \u001b[0;36m<module>\u001b[0;34m\u001b[0m\n\u001b[1;32m      1\u001b[0m \u001b[0mL1\u001b[0m \u001b[0;34m=\u001b[0m \u001b[0mtorch\u001b[0m\u001b[0;34m.\u001b[0m\u001b[0mtensor\u001b[0m\u001b[0;34m(\u001b[0m\u001b[0;36m1.0\u001b[0m\u001b[0;34m,\u001b[0m \u001b[0mrequires_grad\u001b[0m\u001b[0;34m=\u001b[0m\u001b[0;32mTrue\u001b[0m\u001b[0;34m)\u001b[0m\u001b[0;34m\u001b[0m\u001b[0;34m\u001b[0m\u001b[0m\n\u001b[1;32m      2\u001b[0m \u001b[0;34m\u001b[0m\u001b[0m\n\u001b[0;32m----> 3\u001b[0;31m \u001b[0mTR\u001b[0m\u001b[0;34m(\u001b[0m\u001b[0mL1\u001b[0m\u001b[0;34m)\u001b[0m\u001b[0;34m\u001b[0m\u001b[0;34m\u001b[0m\u001b[0m\n\u001b[0m",
      "\u001b[0;32m/tmp/ipykernel_123066/4254110739.py\u001b[0m in \u001b[0;36mTR\u001b[0;34m(A)\u001b[0m\n\u001b[1;32m     26\u001b[0m             \u001b[0mprocessed\u001b[0m\u001b[0;34m.\u001b[0m\u001b[0mappend\u001b[0m\u001b[0;34m(\u001b[0m\u001b[0mtorch\u001b[0m\u001b[0;34m.\u001b[0m\u001b[0mtensor\u001b[0m\u001b[0;34m(\u001b[0m\u001b[0mi\u001b[0m\u001b[0;34m)\u001b[0m\u001b[0;34m.\u001b[0m\u001b[0mview\u001b[0m\u001b[0;34m(\u001b[0m\u001b[0;36m1\u001b[0m\u001b[0;34m)\u001b[0m\u001b[0;34m)\u001b[0m\u001b[0;34m\u001b[0m\u001b[0;34m\u001b[0m\u001b[0m\n\u001b[1;32m     27\u001b[0m         \u001b[0;32melse\u001b[0m\u001b[0;34m:\u001b[0m\u001b[0;34m\u001b[0m\u001b[0;34m\u001b[0m\u001b[0m\n\u001b[0;32m---> 28\u001b[0;31m             \u001b[0mprocessed\u001b[0m\u001b[0;34m.\u001b[0m\u001b[0mappend\u001b[0m\u001b[0;34m(\u001b[0m\u001b[0mi\u001b[0m\u001b[0;34m.\u001b[0m\u001b[0mview\u001b[0m\u001b[0;34m(\u001b[0m\u001b[0;36m1\u001b[0m\u001b[0;34m)\u001b[0m\u001b[0;34m)\u001b[0m\u001b[0;34m\u001b[0m\u001b[0;34m\u001b[0m\u001b[0m\n\u001b[0m\u001b[1;32m     29\u001b[0m \u001b[0;34m\u001b[0m\u001b[0m\n\u001b[1;32m     30\u001b[0m     \u001b[0;32mreturn\u001b[0m \u001b[0mtorch\u001b[0m\u001b[0;34m.\u001b[0m\u001b[0mcat\u001b[0m\u001b[0;34m(\u001b[0m\u001b[0mtuple\u001b[0m\u001b[0;34m(\u001b[0m\u001b[0mprocessed\u001b[0m\u001b[0;34m)\u001b[0m\u001b[0;34m)\u001b[0m\u001b[0;34m.\u001b[0m\u001b[0mview\u001b[0m\u001b[0;34m(\u001b[0m\u001b[0;36m3\u001b[0m\u001b[0;34m,\u001b[0m\u001b[0;36m3\u001b[0m\u001b[0;34m)\u001b[0m\u001b[0;34m\u001b[0m\u001b[0;34m\u001b[0m\u001b[0m\n",
      "\u001b[0;31mAttributeError\u001b[0m: 'int' object has no attribute 'view'"
     ]
    }
   ],
   "source": [
    "L1 = torch.tensor(1.0, requires_grad=True)\n",
    "\n",
    "TR(L1)"
   ]
  },
  {
   "cell_type": "code",
   "execution_count": 9,
   "metadata": {},
   "outputs": [
    {
     "data": {
      "text/plain": [
       "array([-1.        ,  0.99999994,  1.        ], dtype=float32)"
      ]
     },
     "execution_count": 9,
     "metadata": {},
     "output_type": "execute_result"
    }
   ],
   "source": [
    "myResult = myResult.squeeze().detach().numpy()\n",
    "myResult"
   ]
  },
  {
   "cell_type": "code",
   "execution_count": 10,
   "metadata": {},
   "outputs": [
    {
     "data": {
      "text/plain": [
       "array([ True,  True,  True])"
      ]
     },
     "execution_count": 10,
     "metadata": {},
     "output_type": "execute_result"
    }
   ],
   "source": [
    "np.isclose(myResult, x)"
   ]
  },
  {
   "cell_type": "code",
   "execution_count": null,
   "metadata": {},
   "outputs": [],
   "source": []
  },
  {
   "cell_type": "code",
   "execution_count": 21,
   "metadata": {},
   "outputs": [],
   "source": [
    "def forward_kinematics(theta1,theta2):\n",
    "    start = torch.tensor([0.0,0.0,1.0]).unsqueeze(1)\n",
    "    myResult = TR(theta1)\n",
    "    myResult = myResult@TPx(L1)\n",
    "    myResult = myResult@TR(theta2)@TPx(L2)@start\n",
    "    return myResult"
   ]
  },
  {
   "cell_type": "code",
   "execution_count": 22,
   "metadata": {},
   "outputs": [
    {
     "data": {
      "text/plain": [
       "tensor([[2.],\n",
       "        [0.],\n",
       "        [1.]])"
      ]
     },
     "execution_count": 22,
     "metadata": {},
     "output_type": "execute_result"
    }
   ],
   "source": [
    "theta1 = torch.tensor(0.0, requires_grad=True)\n",
    "theta2 = torch.tensor(0.0, requires_grad=True)\n",
    "\n",
    "L1 = torch.tensor(1.0)\n",
    "L2 = torch.tensor(1.0)\n",
    "\n",
    "forward_kinematics(theta1,theta2)"
   ]
  },
  {
   "cell_type": "code",
   "execution_count": null,
   "metadata": {},
   "outputs": [],
   "source": []
  }
 ],
 "metadata": {
  "kernelspec": {
   "display_name": "DEEPLABCUT",
   "language": "python",
   "name": "python3"
  },
  "language_info": {
   "codemirror_mode": {
    "name": "ipython",
    "version": 3
   },
   "file_extension": ".py",
   "mimetype": "text/x-python",
   "name": "python",
   "nbconvert_exporter": "python",
   "pygments_lexer": "ipython3",
   "version": "3.8.12"
  },
  "orig_nbformat": 4
 },
 "nbformat": 4,
 "nbformat_minor": 2
}
