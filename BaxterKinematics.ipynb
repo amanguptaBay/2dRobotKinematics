{
 "cells": [
  {
   "cell_type": "code",
   "execution_count": 32,
   "metadata": {},
   "outputs": [],
   "source": [
    "import torch\n",
    "import math\n",
    "from collections import namedtuple"
   ]
  },
  {
   "cell_type": "code",
   "execution_count": 49,
   "metadata": {},
   "outputs": [],
   "source": [
    "def T(alpha, a, d, theta):\n",
    "    processed = list()\n",
    "    for i in [torch.cos(theta), -torch.sin(theta), 0, a,\n",
    "              torch.sin(theta)*torch.cos(alpha), torch.cos(theta)*torch.sin(alpha), -torch.sin(alpha), -d*torch.sin(alpha), \n",
    "              torch.sin(theta)*torch.sin(alpha), torch.cos(theta)*torch.sin(alpha), torch.cos(alpha), d*torch.cos(alpha),\n",
    "              0,0,0,1]:\n",
    "        if isinstance(i, (int, float)):\n",
    "            processed.append(torch.tensor(i).view(1))\n",
    "        else:\n",
    "            processed.append(i.view(1))\n",
    "\n",
    "    return torch.cat(tuple(processed)).view(4,4)"
   ]
  },
  {
   "cell_type": "code",
   "execution_count": 50,
   "metadata": {},
   "outputs": [],
   "source": [
    "t1 = torch.tensor(0.0, requires_grad=True)\n",
    "t2 = torch.tensor(0.0, requires_grad=True)\n",
    "t3 = torch.tensor(0.0, requires_grad=True)\n",
    "t4 = torch.tensor(0.0, requires_grad=True)\n",
    "t5 = torch.tensor(0.0, requires_grad=True)\n",
    "t6 = torch.tensor(0.0, requires_grad=True)\n",
    "t7 = torch.tensor(0.0, requires_grad=True)"
   ]
  },
  {
   "cell_type": "code",
   "execution_count": 51,
   "metadata": {},
   "outputs": [],
   "source": [
    "L0 = torch.tensor(270.35)\n",
    "L1 = torch.tensor(69)\n",
    "L2 = torch.tensor(364.35)\n",
    "L3 = torch.tensor(69)\n",
    "L4 = torch.tensor(374.39)\n",
    "L5 = torch.tensor(10)\n",
    "L6 = torch.tensor(368.30)"
   ]
  },
  {
   "cell_type": "code",
   "execution_count": 52,
   "metadata": {},
   "outputs": [],
   "source": [
    "ModifiedDHParameterRow = namedtuple(\"ModifiedDHParameterRow\", \"alpha, a, d, theta\")\n",
    "a1=ModifiedDHParameterRow(torch.tensor(0.0),torch.tensor(0.0),torch.tensor(0.0),t1)\n",
    "a2=ModifiedDHParameterRow(torch.tensor(-math.pi/4),L1,torch.tensor(0.0),t2+90.0)\n",
    "a3=ModifiedDHParameterRow(torch.tensor(math.pi/4),torch.tensor(0.0),L2,t3)\n",
    "a4=ModifiedDHParameterRow(torch.tensor(-math.pi/4),L3,torch.tensor(0.0),t4)\n",
    "a5=ModifiedDHParameterRow(torch.tensor(math.pi/4),torch.tensor(0.0),L4,t5)\n",
    "a6=ModifiedDHParameterRow(torch.tensor(-math.pi/4),L5,torch.tensor(0.0),t6)\n",
    "a7=ModifiedDHParameterRow(torch.tensor(math.pi/4),torch.tensor(0.0),torch.tensor(0.0),t7)\n",
    "def TForParamRow(row: ModifiedDHParameterRow):\n",
    "    return T(row.alpha, row.a, row.d , row.theta)"
   ]
  },
  {
   "cell_type": "code",
   "execution_count": 53,
   "metadata": {},
   "outputs": [
    {
     "data": {
      "text/plain": [
       "tensor([[1., -0., 0., 0.],\n",
       "        [0., 0., -0., -0.],\n",
       "        [0., 0., 1., 0.],\n",
       "        [0., 0., 0., 1.]], grad_fn=<ViewBackward0>)"
      ]
     },
     "execution_count": 53,
     "metadata": {},
     "output_type": "execute_result"
    }
   ],
   "source": [
    "T(*a1)"
   ]
  },
  {
   "cell_type": "code",
   "execution_count": 56,
   "metadata": {},
   "outputs": [],
   "source": [
    "def forward_kinematics(a: [ModifiedDHParameterRow]):\n",
    "    start = torch.tensor([0.0,0.0,0.0,1.0]).unsqueeze(1)\n",
    "    net = None\n",
    "    for row in a:\n",
    "        transform = TForParamRow(row)\n",
    "        net = net@transform if net is not None else transform\n",
    "    return net@start\n",
    "        "
   ]
  },
  {
   "cell_type": "code",
   "execution_count": 57,
   "metadata": {},
   "outputs": [
    {
     "data": {
      "text/plain": [
       "tensor([[263.9265],\n",
       "        [  0.0000],\n",
       "        [424.9972],\n",
       "        [  1.0000]], grad_fn=<MmBackward0>)"
      ]
     },
     "execution_count": 57,
     "metadata": {},
     "output_type": "execute_result"
    }
   ],
   "source": [
    "a = [a1,a2,a3,a4,a5,a6,a7]\n",
    "forward_kinematics(a)"
   ]
  },
  {
   "cell_type": "code",
   "execution_count": 55,
   "metadata": {},
   "outputs": [
    {
     "data": {
      "text/plain": [
       "<function __main__.T(alpha, a, d, theta)>"
      ]
     },
     "execution_count": 55,
     "metadata": {},
     "output_type": "execute_result"
    }
   ],
   "source": [
    "T"
   ]
  },
  {
   "cell_type": "code",
   "execution_count": null,
   "metadata": {},
   "outputs": [],
   "source": []
  }
 ],
 "metadata": {
  "kernelspec": {
   "display_name": "DEEPLABCUT",
   "language": "python",
   "name": "python3"
  },
  "language_info": {
   "codemirror_mode": {
    "name": "ipython",
    "version": 3
   },
   "file_extension": ".py",
   "mimetype": "text/x-python",
   "name": "python",
   "nbconvert_exporter": "python",
   "pygments_lexer": "ipython3",
   "version": "3.8.16"
  },
  "orig_nbformat": 4
 },
 "nbformat": 4,
 "nbformat_minor": 2
}
